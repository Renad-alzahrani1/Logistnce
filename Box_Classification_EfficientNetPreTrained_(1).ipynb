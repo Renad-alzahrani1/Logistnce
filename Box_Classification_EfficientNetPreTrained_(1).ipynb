{
  "cells": [
    {
      "cell_type": "code",
      "execution_count": null,
      "metadata": {
        "colab": {
          "base_uri": "https://localhost:8080/"
        },
        "id": "_OlWEjZ4v-HJ",
        "outputId": "fd2bab9c-f038-432d-d682-2fe32169ae0f"
      },
      "outputs": [
        {
          "output_type": "stream",
          "name": "stdout",
          "text": [
            "Mounted at /content/drive\n"
          ]
        }
      ],
      "source": [
        "from google.colab import drive\n",
        "drive.mount('/content/drive')"
      ]
    },
    {
      "cell_type": "code",
      "execution_count": null,
      "metadata": {
        "colab": {
          "base_uri": "https://localhost:8080/"
        },
        "id": "af414SbxgbX-",
        "outputId": "0e8c3bcb-ae9f-4f0c-cc56-f37a295e843c"
      },
      "outputs": [
        {
          "output_type": "stream",
          "name": "stderr",
          "text": [
            "/usr/local/lib/python3.10/dist-packages/torchvision/models/_utils.py:223: UserWarning: Arguments other than a weight enum or `None` for 'weights' are deprecated since 0.13 and may be removed in the future. The current behavior is equivalent to passing `weights=EfficientNet_B1_Weights.IMAGENET1K_V1`. You can also use `weights=EfficientNet_B1_Weights.DEFAULT` to get the most up-to-date weights.\n",
            "  warnings.warn(msg)\n",
            "/usr/local/lib/python3.10/dist-packages/torch/utils/data/dataloader.py:617: UserWarning: This DataLoader will create 4 worker processes in total. Our suggested max number of worker in current system is 2, which is smaller than what this DataLoader is going to create. Please be aware that excessive worker creation might get DataLoader running slow or even freeze, lower the worker number to avoid potential slowness/freeze if necessary.\n",
            "  warnings.warn(\n",
            "<ipython-input-4-a3e4a4342369>:68: FutureWarning: `torch.cuda.amp.GradScaler(args...)` is deprecated. Please use `torch.amp.GradScaler('cuda', args...)` instead.\n",
            "  scaler = torch.cuda.amp.GradScaler()\n"
          ]
        },
        {
          "output_type": "stream",
          "name": "stdout",
          "text": [
            "\n",
            "Epoch 1/30\n"
          ]
        },
        {
          "output_type": "stream",
          "name": "stderr",
          "text": [
            "\rTraining:   0%|          | 0/137 [00:00<?, ?it/s]<ipython-input-4-a3e4a4342369>:98: FutureWarning: `torch.cuda.amp.autocast(args...)` is deprecated. Please use `torch.amp.autocast('cuda', args...)` instead.\n",
            "  with torch.cuda.amp.autocast():\n",
            "Training: 100%|██████████| 137/137 [00:45<00:00,  2.98it/s]\n"
          ]
        },
        {
          "output_type": "stream",
          "name": "stdout",
          "text": [
            "Training Loss: 0.4903, Training Accuracy: 0.8018\n"
          ]
        },
        {
          "output_type": "stream",
          "name": "stderr",
          "text": [
            "\rValidation:   0%|          | 0/46 [00:00<?, ?it/s]/usr/local/lib/python3.10/dist-packages/torch/utils/data/dataloader.py:617: UserWarning: This DataLoader will create 4 worker processes in total. Our suggested max number of worker in current system is 2, which is smaller than what this DataLoader is going to create. Please be aware that excessive worker creation might get DataLoader running slow or even freeze, lower the worker number to avoid potential slowness/freeze if necessary.\n",
            "  warnings.warn(\n",
            "<ipython-input-4-a3e4a4342369>:133: FutureWarning: `torch.cuda.amp.autocast(args...)` is deprecated. Please use `torch.amp.autocast('cuda', args...)` instead.\n",
            "  with torch.cuda.amp.autocast():\n",
            "Validation: 100%|██████████| 46/46 [00:09<00:00,  4.85it/s]\n"
          ]
        },
        {
          "output_type": "stream",
          "name": "stdout",
          "text": [
            "Validation Loss: 0.1625, Accuracy: 0.9780, Precision: 0.9728, Recall: 0.9835, F1-Score: 0.9781\n",
            "Best model saved.\n",
            "\n",
            "Epoch 2/30\n"
          ]
        },
        {
          "output_type": "stream",
          "name": "stderr",
          "text": [
            "\rTraining:   0%|          | 0/137 [00:00<?, ?it/s]/usr/local/lib/python3.10/dist-packages/torch/utils/data/dataloader.py:617: UserWarning: This DataLoader will create 4 worker processes in total. Our suggested max number of worker in current system is 2, which is smaller than what this DataLoader is going to create. Please be aware that excessive worker creation might get DataLoader running slow or even freeze, lower the worker number to avoid potential slowness/freeze if necessary.\n",
            "  warnings.warn(\n",
            "<ipython-input-4-a3e4a4342369>:98: FutureWarning: `torch.cuda.amp.autocast(args...)` is deprecated. Please use `torch.amp.autocast('cuda', args...)` instead.\n",
            "  with torch.cuda.amp.autocast():\n",
            "Training: 100%|██████████| 137/137 [00:43<00:00,  3.15it/s]\n"
          ]
        },
        {
          "output_type": "stream",
          "name": "stdout",
          "text": [
            "Training Loss: 0.1681, Training Accuracy: 0.9560\n"
          ]
        },
        {
          "output_type": "stream",
          "name": "stderr",
          "text": [
            "\rValidation:   0%|          | 0/46 [00:00<?, ?it/s]/usr/local/lib/python3.10/dist-packages/torch/utils/data/dataloader.py:617: UserWarning: This DataLoader will create 4 worker processes in total. Our suggested max number of worker in current system is 2, which is smaller than what this DataLoader is going to create. Please be aware that excessive worker creation might get DataLoader running slow or even freeze, lower the worker number to avoid potential slowness/freeze if necessary.\n",
            "  warnings.warn(\n",
            "<ipython-input-4-a3e4a4342369>:133: FutureWarning: `torch.cuda.amp.autocast(args...)` is deprecated. Please use `torch.amp.autocast('cuda', args...)` instead.\n",
            "  with torch.cuda.amp.autocast():\n",
            "Validation: 100%|██████████| 46/46 [00:09<00:00,  4.98it/s]\n"
          ]
        },
        {
          "output_type": "stream",
          "name": "stdout",
          "text": [
            "Validation Loss: 0.0656, Accuracy: 0.9835, Precision: 0.9889, Recall: 0.9780, F1-Score: 0.9834\n",
            "Best model saved.\n",
            "\n",
            "Epoch 3/30\n"
          ]
        },
        {
          "output_type": "stream",
          "name": "stderr",
          "text": [
            "\rTraining:   0%|          | 0/137 [00:00<?, ?it/s]/usr/local/lib/python3.10/dist-packages/torch/utils/data/dataloader.py:617: UserWarning: This DataLoader will create 4 worker processes in total. Our suggested max number of worker in current system is 2, which is smaller than what this DataLoader is going to create. Please be aware that excessive worker creation might get DataLoader running slow or even freeze, lower the worker number to avoid potential slowness/freeze if necessary.\n",
            "  warnings.warn(\n",
            "<ipython-input-4-a3e4a4342369>:98: FutureWarning: `torch.cuda.amp.autocast(args...)` is deprecated. Please use `torch.amp.autocast('cuda', args...)` instead.\n",
            "  with torch.cuda.amp.autocast():\n",
            "Training: 100%|██████████| 137/137 [00:43<00:00,  3.16it/s]\n"
          ]
        },
        {
          "output_type": "stream",
          "name": "stdout",
          "text": [
            "Training Loss: 0.0769, Training Accuracy: 0.9881\n"
          ]
        },
        {
          "output_type": "stream",
          "name": "stderr",
          "text": [
            "\rValidation:   0%|          | 0/46 [00:00<?, ?it/s]/usr/local/lib/python3.10/dist-packages/torch/utils/data/dataloader.py:617: UserWarning: This DataLoader will create 4 worker processes in total. Our suggested max number of worker in current system is 2, which is smaller than what this DataLoader is going to create. Please be aware that excessive worker creation might get DataLoader running slow or even freeze, lower the worker number to avoid potential slowness/freeze if necessary.\n",
            "  warnings.warn(\n",
            "<ipython-input-4-a3e4a4342369>:133: FutureWarning: `torch.cuda.amp.autocast(args...)` is deprecated. Please use `torch.amp.autocast('cuda', args...)` instead.\n",
            "  with torch.cuda.amp.autocast():\n",
            "Validation: 100%|██████████| 46/46 [00:09<00:00,  4.99it/s]\n"
          ]
        },
        {
          "output_type": "stream",
          "name": "stdout",
          "text": [
            "Validation Loss: 0.0455, Accuracy: 0.9835, Precision: 0.9944, Recall: 0.9725, F1-Score: 0.9833\n",
            "No improvement in validation F1-Score for 1 epoch(s).\n",
            "\n",
            "Epoch 4/30\n"
          ]
        },
        {
          "output_type": "stream",
          "name": "stderr",
          "text": [
            "\rTraining:   0%|          | 0/137 [00:00<?, ?it/s]/usr/local/lib/python3.10/dist-packages/torch/utils/data/dataloader.py:617: UserWarning: This DataLoader will create 4 worker processes in total. Our suggested max number of worker in current system is 2, which is smaller than what this DataLoader is going to create. Please be aware that excessive worker creation might get DataLoader running slow or even freeze, lower the worker number to avoid potential slowness/freeze if necessary.\n",
            "  warnings.warn(\n",
            "<ipython-input-4-a3e4a4342369>:98: FutureWarning: `torch.cuda.amp.autocast(args...)` is deprecated. Please use `torch.amp.autocast('cuda', args...)` instead.\n",
            "  with torch.cuda.amp.autocast():\n",
            "Training: 100%|██████████| 137/137 [00:42<00:00,  3.20it/s]\n"
          ]
        },
        {
          "output_type": "stream",
          "name": "stdout",
          "text": [
            "Training Loss: 0.0505, Training Accuracy: 0.9927\n"
          ]
        },
        {
          "output_type": "stream",
          "name": "stderr",
          "text": [
            "\rValidation:   0%|          | 0/46 [00:00<?, ?it/s]/usr/local/lib/python3.10/dist-packages/torch/utils/data/dataloader.py:617: UserWarning: This DataLoader will create 4 worker processes in total. Our suggested max number of worker in current system is 2, which is smaller than what this DataLoader is going to create. Please be aware that excessive worker creation might get DataLoader running slow or even freeze, lower the worker number to avoid potential slowness/freeze if necessary.\n",
            "  warnings.warn(\n",
            "<ipython-input-4-a3e4a4342369>:133: FutureWarning: `torch.cuda.amp.autocast(args...)` is deprecated. Please use `torch.amp.autocast('cuda', args...)` instead.\n",
            "  with torch.cuda.amp.autocast():\n",
            "Validation: 100%|██████████| 46/46 [00:09<00:00,  4.97it/s]\n"
          ]
        },
        {
          "output_type": "stream",
          "name": "stdout",
          "text": [
            "Validation Loss: 0.0345, Accuracy: 0.9918, Precision: 0.9891, Recall: 0.9945, F1-Score: 0.9918\n",
            "Best model saved.\n",
            "\n",
            "Epoch 5/30\n"
          ]
        },
        {
          "output_type": "stream",
          "name": "stderr",
          "text": [
            "\rTraining:   0%|          | 0/137 [00:00<?, ?it/s]/usr/local/lib/python3.10/dist-packages/torch/utils/data/dataloader.py:617: UserWarning: This DataLoader will create 4 worker processes in total. Our suggested max number of worker in current system is 2, which is smaller than what this DataLoader is going to create. Please be aware that excessive worker creation might get DataLoader running slow or even freeze, lower the worker number to avoid potential slowness/freeze if necessary.\n",
            "  warnings.warn(\n",
            "<ipython-input-4-a3e4a4342369>:98: FutureWarning: `torch.cuda.amp.autocast(args...)` is deprecated. Please use `torch.amp.autocast('cuda', args...)` instead.\n",
            "  with torch.cuda.amp.autocast():\n",
            "Training: 100%|██████████| 137/137 [00:43<00:00,  3.17it/s]\n"
          ]
        },
        {
          "output_type": "stream",
          "name": "stdout",
          "text": [
            "Training Loss: 0.0520, Training Accuracy: 0.9936\n"
          ]
        },
        {
          "output_type": "stream",
          "name": "stderr",
          "text": [
            "\rValidation:   0%|          | 0/46 [00:00<?, ?it/s]/usr/local/lib/python3.10/dist-packages/torch/utils/data/dataloader.py:617: UserWarning: This DataLoader will create 4 worker processes in total. Our suggested max number of worker in current system is 2, which is smaller than what this DataLoader is going to create. Please be aware that excessive worker creation might get DataLoader running slow or even freeze, lower the worker number to avoid potential slowness/freeze if necessary.\n",
            "  warnings.warn(\n",
            "<ipython-input-4-a3e4a4342369>:133: FutureWarning: `torch.cuda.amp.autocast(args...)` is deprecated. Please use `torch.amp.autocast('cuda', args...)` instead.\n",
            "  with torch.cuda.amp.autocast():\n",
            "Validation: 100%|██████████| 46/46 [00:09<00:00,  4.97it/s]\n"
          ]
        },
        {
          "output_type": "stream",
          "name": "stdout",
          "text": [
            "Validation Loss: 0.0319, Accuracy: 0.9918, Precision: 0.9891, Recall: 0.9945, F1-Score: 0.9918\n",
            "No improvement in validation F1-Score for 1 epoch(s).\n",
            "\n",
            "Epoch 6/30\n"
          ]
        },
        {
          "output_type": "stream",
          "name": "stderr",
          "text": [
            "\rTraining:   0%|          | 0/137 [00:00<?, ?it/s]/usr/local/lib/python3.10/dist-packages/torch/utils/data/dataloader.py:617: UserWarning: This DataLoader will create 4 worker processes in total. Our suggested max number of worker in current system is 2, which is smaller than what this DataLoader is going to create. Please be aware that excessive worker creation might get DataLoader running slow or even freeze, lower the worker number to avoid potential slowness/freeze if necessary.\n",
            "  warnings.warn(\n",
            "<ipython-input-4-a3e4a4342369>:98: FutureWarning: `torch.cuda.amp.autocast(args...)` is deprecated. Please use `torch.amp.autocast('cuda', args...)` instead.\n",
            "  with torch.cuda.amp.autocast():\n",
            "Training: 100%|██████████| 137/137 [00:43<00:00,  3.15it/s]\n"
          ]
        },
        {
          "output_type": "stream",
          "name": "stdout",
          "text": [
            "Training Loss: 0.0458, Training Accuracy: 0.9954\n"
          ]
        },
        {
          "output_type": "stream",
          "name": "stderr",
          "text": [
            "\rValidation:   0%|          | 0/46 [00:00<?, ?it/s]/usr/local/lib/python3.10/dist-packages/torch/utils/data/dataloader.py:617: UserWarning: This DataLoader will create 4 worker processes in total. Our suggested max number of worker in current system is 2, which is smaller than what this DataLoader is going to create. Please be aware that excessive worker creation might get DataLoader running slow or even freeze, lower the worker number to avoid potential slowness/freeze if necessary.\n",
            "  warnings.warn(\n",
            "<ipython-input-4-a3e4a4342369>:133: FutureWarning: `torch.cuda.amp.autocast(args...)` is deprecated. Please use `torch.amp.autocast('cuda', args...)` instead.\n",
            "  with torch.cuda.amp.autocast():\n",
            "Validation: 100%|██████████| 46/46 [00:09<00:00,  4.81it/s]\n"
          ]
        },
        {
          "output_type": "stream",
          "name": "stdout",
          "text": [
            "Validation Loss: 0.0308, Accuracy: 0.9918, Precision: 0.9945, Recall: 0.9890, F1-Score: 0.9917\n",
            "No improvement in validation F1-Score for 2 epoch(s).\n",
            "\n",
            "Epoch 7/30\n"
          ]
        },
        {
          "output_type": "stream",
          "name": "stderr",
          "text": [
            "\rTraining:   0%|          | 0/137 [00:00<?, ?it/s]/usr/local/lib/python3.10/dist-packages/torch/utils/data/dataloader.py:617: UserWarning: This DataLoader will create 4 worker processes in total. Our suggested max number of worker in current system is 2, which is smaller than what this DataLoader is going to create. Please be aware that excessive worker creation might get DataLoader running slow or even freeze, lower the worker number to avoid potential slowness/freeze if necessary.\n",
            "  warnings.warn(\n",
            "<ipython-input-4-a3e4a4342369>:98: FutureWarning: `torch.cuda.amp.autocast(args...)` is deprecated. Please use `torch.amp.autocast('cuda', args...)` instead.\n",
            "  with torch.cuda.amp.autocast():\n",
            "Training: 100%|██████████| 137/137 [00:44<00:00,  3.10it/s]\n"
          ]
        },
        {
          "output_type": "stream",
          "name": "stdout",
          "text": [
            "Training Loss: 0.0300, Training Accuracy: 0.9982\n"
          ]
        },
        {
          "output_type": "stream",
          "name": "stderr",
          "text": [
            "\rValidation:   0%|          | 0/46 [00:00<?, ?it/s]/usr/local/lib/python3.10/dist-packages/torch/utils/data/dataloader.py:617: UserWarning: This DataLoader will create 4 worker processes in total. Our suggested max number of worker in current system is 2, which is smaller than what this DataLoader is going to create. Please be aware that excessive worker creation might get DataLoader running slow or even freeze, lower the worker number to avoid potential slowness/freeze if necessary.\n",
            "  warnings.warn(\n",
            "<ipython-input-4-a3e4a4342369>:133: FutureWarning: `torch.cuda.amp.autocast(args...)` is deprecated. Please use `torch.amp.autocast('cuda', args...)` instead.\n",
            "  with torch.cuda.amp.autocast():\n",
            "Validation: 100%|██████████| 46/46 [00:09<00:00,  4.63it/s]\n"
          ]
        },
        {
          "output_type": "stream",
          "name": "stdout",
          "text": [
            "Validation Loss: 0.0283, Accuracy: 0.9945, Precision: 0.9945, Recall: 0.9945, F1-Score: 0.9945\n",
            "Best model saved.\n",
            "\n",
            "Epoch 8/30\n"
          ]
        },
        {
          "output_type": "stream",
          "name": "stderr",
          "text": [
            "\rTraining:   0%|          | 0/137 [00:00<?, ?it/s]/usr/local/lib/python3.10/dist-packages/torch/utils/data/dataloader.py:617: UserWarning: This DataLoader will create 4 worker processes in total. Our suggested max number of worker in current system is 2, which is smaller than what this DataLoader is going to create. Please be aware that excessive worker creation might get DataLoader running slow or even freeze, lower the worker number to avoid potential slowness/freeze if necessary.\n",
            "  warnings.warn(\n",
            "<ipython-input-4-a3e4a4342369>:98: FutureWarning: `torch.cuda.amp.autocast(args...)` is deprecated. Please use `torch.amp.autocast('cuda', args...)` instead.\n",
            "  with torch.cuda.amp.autocast():\n",
            "Training: 100%|██████████| 137/137 [00:45<00:00,  3.01it/s]\n"
          ]
        },
        {
          "output_type": "stream",
          "name": "stdout",
          "text": [
            "Training Loss: 0.0197, Training Accuracy: 0.9963\n"
          ]
        },
        {
          "output_type": "stream",
          "name": "stderr",
          "text": [
            "\rValidation:   0%|          | 0/46 [00:00<?, ?it/s]/usr/local/lib/python3.10/dist-packages/torch/utils/data/dataloader.py:617: UserWarning: This DataLoader will create 4 worker processes in total. Our suggested max number of worker in current system is 2, which is smaller than what this DataLoader is going to create. Please be aware that excessive worker creation might get DataLoader running slow or even freeze, lower the worker number to avoid potential slowness/freeze if necessary.\n",
            "  warnings.warn(\n",
            "<ipython-input-4-a3e4a4342369>:133: FutureWarning: `torch.cuda.amp.autocast(args...)` is deprecated. Please use `torch.amp.autocast('cuda', args...)` instead.\n",
            "  with torch.cuda.amp.autocast():\n",
            "Validation: 100%|██████████| 46/46 [00:09<00:00,  4.75it/s]\n"
          ]
        },
        {
          "output_type": "stream",
          "name": "stdout",
          "text": [
            "Validation Loss: 0.0276, Accuracy: 0.9945, Precision: 0.9891, Recall: 1.0000, F1-Score: 0.9945\n",
            "Best model saved.\n",
            "\n",
            "Epoch 9/30\n"
          ]
        },
        {
          "output_type": "stream",
          "name": "stderr",
          "text": [
            "\rTraining:   0%|          | 0/137 [00:00<?, ?it/s]/usr/local/lib/python3.10/dist-packages/torch/utils/data/dataloader.py:617: UserWarning: This DataLoader will create 4 worker processes in total. Our suggested max number of worker in current system is 2, which is smaller than what this DataLoader is going to create. Please be aware that excessive worker creation might get DataLoader running slow or even freeze, lower the worker number to avoid potential slowness/freeze if necessary.\n",
            "  warnings.warn(\n",
            "<ipython-input-4-a3e4a4342369>:98: FutureWarning: `torch.cuda.amp.autocast(args...)` is deprecated. Please use `torch.amp.autocast('cuda', args...)` instead.\n",
            "  with torch.cuda.amp.autocast():\n",
            "Training: 100%|██████████| 137/137 [00:44<00:00,  3.08it/s]\n"
          ]
        },
        {
          "output_type": "stream",
          "name": "stdout",
          "text": [
            "Training Loss: 0.0157, Training Accuracy: 0.9982\n"
          ]
        },
        {
          "output_type": "stream",
          "name": "stderr",
          "text": [
            "\rValidation:   0%|          | 0/46 [00:00<?, ?it/s]/usr/local/lib/python3.10/dist-packages/torch/utils/data/dataloader.py:617: UserWarning: This DataLoader will create 4 worker processes in total. Our suggested max number of worker in current system is 2, which is smaller than what this DataLoader is going to create. Please be aware that excessive worker creation might get DataLoader running slow or even freeze, lower the worker number to avoid potential slowness/freeze if necessary.\n",
            "  warnings.warn(\n",
            "<ipython-input-4-a3e4a4342369>:133: FutureWarning: `torch.cuda.amp.autocast(args...)` is deprecated. Please use `torch.amp.autocast('cuda', args...)` instead.\n",
            "  with torch.cuda.amp.autocast():\n",
            "Validation: 100%|██████████| 46/46 [00:09<00:00,  4.93it/s]\n"
          ]
        },
        {
          "output_type": "stream",
          "name": "stdout",
          "text": [
            "Validation Loss: 0.0295, Accuracy: 0.9945, Precision: 0.9945, Recall: 0.9945, F1-Score: 0.9945\n",
            "No improvement in validation F1-Score for 1 epoch(s).\n",
            "\n",
            "Epoch 10/30\n"
          ]
        },
        {
          "output_type": "stream",
          "name": "stderr",
          "text": [
            "\rTraining:   0%|          | 0/137 [00:00<?, ?it/s]/usr/local/lib/python3.10/dist-packages/torch/utils/data/dataloader.py:617: UserWarning: This DataLoader will create 4 worker processes in total. Our suggested max number of worker in current system is 2, which is smaller than what this DataLoader is going to create. Please be aware that excessive worker creation might get DataLoader running slow or even freeze, lower the worker number to avoid potential slowness/freeze if necessary.\n",
            "  warnings.warn(\n",
            "<ipython-input-4-a3e4a4342369>:98: FutureWarning: `torch.cuda.amp.autocast(args...)` is deprecated. Please use `torch.amp.autocast('cuda', args...)` instead.\n",
            "  with torch.cuda.amp.autocast():\n",
            "Training: 100%|██████████| 137/137 [00:43<00:00,  3.14it/s]\n"
          ]
        },
        {
          "output_type": "stream",
          "name": "stdout",
          "text": [
            "Training Loss: 0.0173, Training Accuracy: 0.9963\n"
          ]
        },
        {
          "output_type": "stream",
          "name": "stderr",
          "text": [
            "\rValidation:   0%|          | 0/46 [00:00<?, ?it/s]/usr/local/lib/python3.10/dist-packages/torch/utils/data/dataloader.py:617: UserWarning: This DataLoader will create 4 worker processes in total. Our suggested max number of worker in current system is 2, which is smaller than what this DataLoader is going to create. Please be aware that excessive worker creation might get DataLoader running slow or even freeze, lower the worker number to avoid potential slowness/freeze if necessary.\n",
            "  warnings.warn(\n",
            "<ipython-input-4-a3e4a4342369>:133: FutureWarning: `torch.cuda.amp.autocast(args...)` is deprecated. Please use `torch.amp.autocast('cuda', args...)` instead.\n",
            "  with torch.cuda.amp.autocast():\n",
            "Validation: 100%|██████████| 46/46 [00:09<00:00,  4.97it/s]\n"
          ]
        },
        {
          "output_type": "stream",
          "name": "stdout",
          "text": [
            "Validation Loss: 0.0274, Accuracy: 0.9918, Precision: 0.9891, Recall: 0.9945, F1-Score: 0.9918\n",
            "No improvement in validation F1-Score for 2 epoch(s).\n",
            "\n",
            "Epoch 11/30\n"
          ]
        },
        {
          "output_type": "stream",
          "name": "stderr",
          "text": [
            "\rTraining:   0%|          | 0/137 [00:00<?, ?it/s]/usr/local/lib/python3.10/dist-packages/torch/utils/data/dataloader.py:617: UserWarning: This DataLoader will create 4 worker processes in total. Our suggested max number of worker in current system is 2, which is smaller than what this DataLoader is going to create. Please be aware that excessive worker creation might get DataLoader running slow or even freeze, lower the worker number to avoid potential slowness/freeze if necessary.\n",
            "  warnings.warn(\n",
            "<ipython-input-4-a3e4a4342369>:98: FutureWarning: `torch.cuda.amp.autocast(args...)` is deprecated. Please use `torch.amp.autocast('cuda', args...)` instead.\n",
            "  with torch.cuda.amp.autocast():\n",
            "Training: 100%|██████████| 137/137 [00:43<00:00,  3.18it/s]\n"
          ]
        },
        {
          "output_type": "stream",
          "name": "stdout",
          "text": [
            "Training Loss: 0.0170, Training Accuracy: 0.9972\n"
          ]
        },
        {
          "output_type": "stream",
          "name": "stderr",
          "text": [
            "\rValidation:   0%|          | 0/46 [00:00<?, ?it/s]/usr/local/lib/python3.10/dist-packages/torch/utils/data/dataloader.py:617: UserWarning: This DataLoader will create 4 worker processes in total. Our suggested max number of worker in current system is 2, which is smaller than what this DataLoader is going to create. Please be aware that excessive worker creation might get DataLoader running slow or even freeze, lower the worker number to avoid potential slowness/freeze if necessary.\n",
            "  warnings.warn(\n",
            "<ipython-input-4-a3e4a4342369>:133: FutureWarning: `torch.cuda.amp.autocast(args...)` is deprecated. Please use `torch.amp.autocast('cuda', args...)` instead.\n",
            "  with torch.cuda.amp.autocast():\n",
            "Validation: 100%|██████████| 46/46 [00:09<00:00,  5.05it/s]\n"
          ]
        },
        {
          "output_type": "stream",
          "name": "stdout",
          "text": [
            "Validation Loss: 0.0303, Accuracy: 0.9945, Precision: 0.9945, Recall: 0.9945, F1-Score: 0.9945\n",
            "No improvement in validation F1-Score for 3 epoch(s).\n",
            "\n",
            "Epoch 12/30\n"
          ]
        },
        {
          "output_type": "stream",
          "name": "stderr",
          "text": [
            "\rTraining:   0%|          | 0/137 [00:00<?, ?it/s]/usr/local/lib/python3.10/dist-packages/torch/utils/data/dataloader.py:617: UserWarning: This DataLoader will create 4 worker processes in total. Our suggested max number of worker in current system is 2, which is smaller than what this DataLoader is going to create. Please be aware that excessive worker creation might get DataLoader running slow or even freeze, lower the worker number to avoid potential slowness/freeze if necessary.\n",
            "  warnings.warn(\n",
            "<ipython-input-4-a3e4a4342369>:98: FutureWarning: `torch.cuda.amp.autocast(args...)` is deprecated. Please use `torch.amp.autocast('cuda', args...)` instead.\n",
            "  with torch.cuda.amp.autocast():\n",
            "Training: 100%|██████████| 137/137 [00:42<00:00,  3.20it/s]\n"
          ]
        },
        {
          "output_type": "stream",
          "name": "stdout",
          "text": [
            "Training Loss: 0.0072, Training Accuracy: 1.0000\n"
          ]
        },
        {
          "output_type": "stream",
          "name": "stderr",
          "text": [
            "\rValidation:   0%|          | 0/46 [00:00<?, ?it/s]/usr/local/lib/python3.10/dist-packages/torch/utils/data/dataloader.py:617: UserWarning: This DataLoader will create 4 worker processes in total. Our suggested max number of worker in current system is 2, which is smaller than what this DataLoader is going to create. Please be aware that excessive worker creation might get DataLoader running slow or even freeze, lower the worker number to avoid potential slowness/freeze if necessary.\n",
            "  warnings.warn(\n",
            "<ipython-input-4-a3e4a4342369>:133: FutureWarning: `torch.cuda.amp.autocast(args...)` is deprecated. Please use `torch.amp.autocast('cuda', args...)` instead.\n",
            "  with torch.cuda.amp.autocast():\n",
            "Validation: 100%|██████████| 46/46 [00:09<00:00,  4.95it/s]\n"
          ]
        },
        {
          "output_type": "stream",
          "name": "stdout",
          "text": [
            "Validation Loss: 0.0266, Accuracy: 0.9945, Precision: 0.9891, Recall: 1.0000, F1-Score: 0.9945\n",
            "No improvement in validation F1-Score for 4 epoch(s).\n",
            "\n",
            "Epoch 13/30\n"
          ]
        },
        {
          "output_type": "stream",
          "name": "stderr",
          "text": [
            "\rTraining:   0%|          | 0/137 [00:00<?, ?it/s]/usr/local/lib/python3.10/dist-packages/torch/utils/data/dataloader.py:617: UserWarning: This DataLoader will create 4 worker processes in total. Our suggested max number of worker in current system is 2, which is smaller than what this DataLoader is going to create. Please be aware that excessive worker creation might get DataLoader running slow or even freeze, lower the worker number to avoid potential slowness/freeze if necessary.\n",
            "  warnings.warn(\n",
            "<ipython-input-4-a3e4a4342369>:98: FutureWarning: `torch.cuda.amp.autocast(args...)` is deprecated. Please use `torch.amp.autocast('cuda', args...)` instead.\n",
            "  with torch.cuda.amp.autocast():\n",
            "Training: 100%|██████████| 137/137 [00:42<00:00,  3.22it/s]\n"
          ]
        },
        {
          "output_type": "stream",
          "name": "stdout",
          "text": [
            "Training Loss: 0.0052, Training Accuracy: 1.0000\n"
          ]
        },
        {
          "output_type": "stream",
          "name": "stderr",
          "text": [
            "\rValidation:   0%|          | 0/46 [00:00<?, ?it/s]/usr/local/lib/python3.10/dist-packages/torch/utils/data/dataloader.py:617: UserWarning: This DataLoader will create 4 worker processes in total. Our suggested max number of worker in current system is 2, which is smaller than what this DataLoader is going to create. Please be aware that excessive worker creation might get DataLoader running slow or even freeze, lower the worker number to avoid potential slowness/freeze if necessary.\n",
            "  warnings.warn(\n",
            "<ipython-input-4-a3e4a4342369>:133: FutureWarning: `torch.cuda.amp.autocast(args...)` is deprecated. Please use `torch.amp.autocast('cuda', args...)` instead.\n",
            "  with torch.cuda.amp.autocast():\n",
            "Validation: 100%|██████████| 46/46 [00:09<00:00,  5.00it/s]"
          ]
        },
        {
          "output_type": "stream",
          "name": "stdout",
          "text": [
            "Validation Loss: 0.0250, Accuracy: 0.9918, Precision: 0.9891, Recall: 0.9945, F1-Score: 0.9918\n",
            "No improvement in validation F1-Score for 5 epoch(s).\n",
            "Early stopping triggered after 5 epochs without improvement.\n"
          ]
        },
        {
          "output_type": "stream",
          "name": "stderr",
          "text": [
            "\n"
          ]
        }
      ],
      "source": [
        "import torch\n",
        "from torch.utils.data import DataLoader, Subset\n",
        "from torchvision import transforms\n",
        "from torchvision.datasets import ImageFolder\n",
        "from sklearn.model_selection import StratifiedShuffleSplit\n",
        "from sklearn.metrics import precision_score, recall_score, f1_score, accuracy_score\n",
        "import numpy as np\n",
        "from tqdm import tqdm\n",
        "import torch.optim as optim\n",
        "import torch.nn as nn\n",
        "from torchvision.models import efficientnet_b1\n",
        "import matplotlib.pyplot as plt\n",
        "\n",
        "# ================================\n",
        "# 1. Load EfficientNet-B1 with Pre-trained Weights\n",
        "# ================================\n",
        "model = efficientnet_b1(weights=True).to(\"cuda\")\n",
        "\n",
        "# Modify the classifier for binary classification\n",
        "num_features = model.classifier[1].in_features\n",
        "model.classifier = nn.Sequential(\n",
        "    nn.Linear(num_features, 1)  # Change the output to 1 for binary classification\n",
        ").to(\"cuda\")\n",
        "\n",
        "# ================================\n",
        "# 2. Define Transforms\n",
        "# ================================\n",
        "train_transforms = transforms.Compose([\n",
        "    transforms.Resize((640, 640)),\n",
        "    transforms.ToTensor(),\n",
        "    transforms.Normalize(mean=[0.485, 0.456, 0.406], std=[0.229, 0.224, 0.225])\n",
        "])\n",
        "\n",
        "val_transforms = transforms.Compose([\n",
        "    transforms.Resize((640, 640)),\n",
        "    transforms.ToTensor(),\n",
        "    transforms.Normalize(mean=[0.485, 0.456, 0.406], std=[0.229, 0.224, 0.225])\n",
        "])\n",
        "\n",
        "# ================================\n",
        "# 3. Load Dataset and Split\n",
        "# ================================\n",
        "data_dir = '/content/drive/MyDrive/dataset_Eff_2/dataset_Eff_2'\n",
        "\n",
        "dataset = ImageFolder(root=data_dir, transform=train_transforms)\n",
        "labels = np.array([label for _, label in dataset.samples])\n",
        "\n",
        "split = StratifiedShuffleSplit(n_splits=1, test_size=0.25, random_state=0)\n",
        "train_indices, val_indices = next(split.split(np.zeros(len(labels)), labels))\n",
        "\n",
        "train_dataset = Subset(ImageFolder(root=data_dir, transform=train_transforms), train_indices)\n",
        "val_dataset = Subset(ImageFolder(root=data_dir, transform=val_transforms), val_indices)\n",
        "val_dataset.dataset.transform = val_transforms\n",
        "\n",
        "# ================================\n",
        "# 4. Initialize DataLoaders\n",
        "# ================================\n",
        "train_loader = DataLoader(train_dataset, batch_size=8, pin_memory=True, num_workers=4)\n",
        "val_loader = DataLoader(val_dataset, batch_size=8, shuffle=False, pin_memory=True, num_workers=4)\n",
        "\n",
        "# ================================\n",
        "# 5. Training Loop\n",
        "# ================================\n",
        "criterion = nn.BCEWithLogitsLoss().to(\"cuda\")\n",
        "optimizer = optim.AdamW(model.parameters(), lr=0.00005)\n",
        "scheduler = torch.optim.lr_scheduler.CosineAnnealingLR(optimizer, T_max=30, eta_min=1e-6)\n",
        "\n",
        "scaler = torch.cuda.amp.GradScaler()\n",
        "\n",
        "num_epochs = 30\n",
        "patience = 5\n",
        "trigger_times = 0\n",
        "best_val_f1 = -1.0\n",
        "\n",
        "# Metrics storage\n",
        "train_losses = []\n",
        "train_accuracies = []\n",
        "val_losses = []\n",
        "val_accuracies = []\n",
        "\n",
        "for epoch in range(num_epochs):\n",
        "    print(f'\\nEpoch {epoch + 1}/{num_epochs}')\n",
        "\n",
        "    # ================================\n",
        "    # Training Phase\n",
        "    # ================================\n",
        "    model.train()\n",
        "    running_loss = 0.0\n",
        "    all_train_preds = []\n",
        "    all_train_labels = []\n",
        "\n",
        "    for inputs, labels_batch in tqdm(train_loader, desc=\"Training\"):\n",
        "        inputs = inputs.to('cuda', non_blocking=True)\n",
        "        labels_batch = labels_batch.to('cuda', non_blocking=True).float()\n",
        "\n",
        "        optimizer.zero_grad()\n",
        "\n",
        "        with torch.cuda.amp.autocast():\n",
        "            outputs = model(inputs).squeeze()\n",
        "            loss = criterion(outputs, labels_batch)\n",
        "\n",
        "        scaler.scale(loss).backward()\n",
        "        scaler.step(optimizer)\n",
        "        scaler.update()\n",
        "\n",
        "        running_loss += loss.item()\n",
        "\n",
        "        # Store predictions and labels\n",
        "        train_preds = torch.sigmoid(outputs).round().detach().cpu().numpy()\n",
        "        all_train_preds.extend(train_preds)\n",
        "        all_train_labels.extend(labels_batch.detach().cpu().numpy())\n",
        "\n",
        "    epoch_loss = running_loss / len(train_loader)\n",
        "    train_losses.append(epoch_loss)\n",
        "    train_accuracy = accuracy_score(all_train_labels, all_train_preds)\n",
        "    train_accuracies.append(train_accuracy)\n",
        "\n",
        "    print(f'Training Loss: {epoch_loss:.4f}, Training Accuracy: {train_accuracy:.4f}')\n",
        "\n",
        "    # ================================\n",
        "    # Validation Phase\n",
        "    # ================================\n",
        "    model.eval()\n",
        "    val_loss = 0.0\n",
        "    all_preds = []\n",
        "    all_labels = []\n",
        "\n",
        "    with torch.no_grad():\n",
        "        for inputs, labels_batch in tqdm(val_loader, desc=\"Validation\"):\n",
        "            inputs = inputs.to('cuda', non_blocking=True)\n",
        "            labels_batch = labels_batch.to('cuda', non_blocking=True).float()\n",
        "\n",
        "            with torch.cuda.amp.autocast():\n",
        "                outputs = model(inputs).squeeze()\n",
        "                loss = criterion(outputs, labels_batch)\n",
        "\n",
        "            val_loss += loss.item()\n",
        "\n",
        "            # Store predictions and labels\n",
        "            preds = torch.sigmoid(outputs).round().detach().cpu().numpy()\n",
        "            all_preds.extend(preds)\n",
        "            all_labels.extend(labels_batch.detach().cpu().numpy())\n",
        "\n",
        "    val_loss /= len(val_loader)\n",
        "    val_losses.append(val_loss)\n",
        "    val_accuracy = accuracy_score(all_labels, all_preds)\n",
        "    val_accuracies.append(val_accuracy)\n",
        "    val_precision = precision_score(all_labels, all_preds)\n",
        "    val_recall = recall_score(all_labels, all_preds)\n",
        "    val_f1 = f1_score(all_labels, all_preds)\n",
        "\n",
        "    print(f'Validation Loss: {val_loss:.4f}, Accuracy: {val_accuracy:.4f}, Precision: {val_precision:.4f}, Recall: {val_recall:.4f}, F1-Score: {val_f1:.4f}')\n",
        "\n",
        "    # ================================\n",
        "    # Early Stopping and Model Saving\n",
        "    # ================================\n",
        "    if val_f1 > best_val_f1:\n",
        "        best_val_f1 = val_f1\n",
        "        torch.save(model.state_dict(), 'best_model.pth')\n",
        "        print(\"Best model saved.\")\n",
        "        trigger_times = 0\n",
        "    else:\n",
        "        trigger_times += 1\n",
        "        print(f'No improvement in validation F1-Score for {trigger_times} epoch(s).')\n",
        "\n",
        "    if trigger_times >= patience:\n",
        "        print(f'Early stopping triggered after {patience} epochs without improvement.')\n",
        "        break\n",
        "\n",
        "    scheduler.step()"
      ]
    },
    {
      "cell_type": "code",
      "source": [
        "# ================================\n",
        "# Plot Metrics\n",
        "# ================================\n",
        "epochs = range(1, len(train_losses) + 1)\n",
        "\n",
        "# Plot Losses\n",
        "plt.figure(figsize=(7, 5))\n",
        "plt.plot(range(1, len(train_losses) + 1), train_losses, label=\"Training Loss\")\n",
        "plt.plot(range(1, len(val_losses) + 1), val_losses, label=\"Validation Loss\")\n",
        "plt.xlabel(\"Epochs\")\n",
        "plt.ylabel(\"Loss\")\n",
        "plt.title(\"Training and Validation Loss\")\n",
        "plt.legend()\n",
        "plt.grid()\n",
        "plt.show()\n",
        "\n",
        "# Plot Accuracies\n",
        "plt.figure(figsize=(7, 5))\n",
        "plt.plot(range(1, len(train_accuracies) + 1), train_accuracies, label=\"Training Accuracy\")\n",
        "plt.plot(range(1, len(val_accuracies) + 1), val_accuracies, label=\"Validation Accuracy\")\n",
        "plt.xlabel(\"Epochs\")\n",
        "plt.ylabel(\"Accuracy\")\n",
        "plt.title(\"Training and Validation Accuracy\")\n",
        "plt.legend()\n",
        "plt.grid()\n",
        "plt.show()"
      ],
      "metadata": {
        "colab": {
          "base_uri": "https://localhost:8080/",
          "height": 957
        },
        "id": "RBS3uEJmhq7J",
        "outputId": "a01f7056-b385-41c9-a357-f23aff2b7d07"
      },
      "execution_count": null,
      "outputs": [
        {
          "output_type": "display_data",
          "data": {
            "text/plain": [
              "<Figure size 700x500 with 1 Axes>"
            ],
            "image/png": "[encoded data removed]"
          },
          "metadata": {}
        },
        {
          "output_type": "display_data",
          "data": {
            "text/plain": [
              "<Figure size 700x500 with 1 Axes>"
            ],
            "image/png": "[encoded data removed]"
          },
          "metadata": {}
        }
      ]
    },
    {
      "cell_type": "markdown",
      "metadata": {
        "id": "-qFLPMQlgbYF"
      },
      "source": [
        "# Inference Code"
      ]
    },
    {
      "cell_type": "code",
      "execution_count": null,
      "metadata": {
        "id": "QWCP4giWgbYH"
      },
      "outputs": [],
      "source": [
        "import torch\n",
        "import torch.nn as nn\n",
        "from torchvision import transforms\n",
        "from torchvision.models import efficientnet_b1\n",
        "from PIL import Image, ImageEnhance\n",
        "import numpy as np\n",
        "import cv2\n",
        "\n",
        "# Global variables to hold the model and device\n",
        "_model = None\n",
        "_device = torch.device('cuda' if torch.cuda.is_available() else 'cpu')\n",
        "\n",
        "# Define Test-Time Augmentation (TTA) transforms\n",
        "_tta_transforms = [\n",
        "    transforms.Compose([\n",
        "        transforms.Resize((640, 640)),  # Original scale (100%)\n",
        "        transforms.ToTensor(),\n",
        "    ]),\n",
        "    transforms.Compose([\n",
        "        transforms.Resize((768, 768)),  # 120% scale\n",
        "        transforms.CenterCrop((640, 640)),         # Crop back to 640x640\n",
        "        transforms.ToTensor(),\n",
        "    ]),\n",
        "    transforms.Compose([\n",
        "        transforms.Resize((768 + 128, 768 + 128)),  # 140% scale\n",
        "        transforms.CenterCrop((640, 640)),         # Crop back to 640x640\n",
        "        transforms.ToTensor(),\n",
        "    ]),\n",
        "]\n",
        "\n",
        "def get_class_name(image_path):\n",
        "    \"\"\"\n",
        "    Predicts the class of an image given its file path.\n",
        "\n",
        "    Args:\n",
        "        image_path (str): The file path to the input image.\n",
        "\n",
        "    Returns:\n",
        "        str: The predicted class name ('non-box' or 'box').\n",
        "    \"\"\"\n",
        "    global _model\n",
        "\n",
        "    # Load the model only once\n",
        "    if _model is None:\n",
        "        # Initialize the EfficientNet-B1 model without pre-trained weights\n",
        "        _model = efficientnet_b1(weights=None)\n",
        "\n",
        "        # Modify the classifier to match the number of classes (binary classification)\n",
        "        num_features = _model.classifier[1].in_features\n",
        "        _model.classifier = nn.Sequential(\n",
        "            nn.Linear(num_features, 1)  # Output layer for binary classification\n",
        "        )\n",
        "\n",
        "        # Load the saved model weights\n",
        "        try:\n",
        "            _model.load_state_dict(torch.load('best_model.pth', map_location=_device))\n",
        "        except FileNotFoundError:\n",
        "            raise FileNotFoundError(\"The model file 'best_model.pth' was not found.\")\n",
        "        except Exception as e:\n",
        "            raise RuntimeError(f\"An error occurred while loading the model: {e}\")\n",
        "\n",
        "        # Move the model to the appropriate device (GPU or CPU)\n",
        "        _model.to(_device)\n",
        "\n",
        "        # Set the model to evaluation mode\n",
        "        _model.eval()\n",
        "\n",
        "    # ========================\n",
        "    # Image Preprocessing Steps\n",
        "    # ========================\n",
        "\n",
        "    try:\n",
        "        # Open the image and convert to RGB\n",
        "        image = Image.open(image_path).convert('RGB')\n",
        "    except FileNotFoundError:\n",
        "        raise FileNotFoundError(f\"The image file '{image_path}' was not found.\")\n",
        "    except Exception as e:\n",
        "        raise RuntimeError(f\"An error occurred while opening the image: {e}\")\n",
        "\n",
        "    # ========================\n",
        "    # Prediction with TTA\n",
        "    # ========================\n",
        "\n",
        "    predictions = []\n",
        "\n",
        "    # Apply each fixed-scale transformation for TTA\n",
        "    for transform in _tta_transforms:\n",
        "        # Apply the transformation\n",
        "        input_tensor = transform(image)\n",
        "\n",
        "        # Add batch dimension and move to device\n",
        "        input_batch = input_tensor.unsqueeze(0).to(_device)\n",
        "\n",
        "        # Perform inference without tracking gradients\n",
        "        with torch.no_grad():\n",
        "            output = _model(input_batch)\n",
        "\n",
        "        # Convert output to probability using sigmoid\n",
        "        probability = torch.sigmoid(output[0]).item()\n",
        "        predictions.append(probability)\n",
        "\n",
        "    # Calculate the average probability across all TTA scales\n",
        "    avg_probability = sum(predictions) / len(predictions)\n",
        "\n",
        "    # Define class labels\n",
        "    classes = ['non-box', 'box']\n",
        "\n",
        "    # Determine the class based on the average probability\n",
        "    predicted_class = 1 if avg_probability >= 0.5 else 0\n",
        "\n",
        "    return predicted_class"
      ]
    },
    {
      "cell_type": "code",
      "execution_count": null,
      "metadata": {
        "id": "Csc9UAlIgbYJ",
        "outputId": "8fcb5af2-8c48-4d19-87f1-7864365dd35b"
      },
      "outputs": [
        {
          "name": "stderr",
          "output_type": "stream",
          "text": [
            "/tmp/ipykernel_3013386/4284673994.py:56: FutureWarning: You are using `torch.load` with `weights_only=False` (the current default value), which uses the default pickle module implicitly. It is possible to construct malicious pickle data which will execute arbitrary code during unpickling (See https://github.com/pytorch/pytorch/blob/main/SECURITY.md#untrusted-models for more details). In a future release, the default value for `weights_only` will be flipped to `True`. This limits the functions that could be executed during unpickling. Arbitrary objects will no longer be allowed to be loaded via this mode unless they are explicitly allowlisted by the user via `torch.serialization.add_safe_globals`. We recommend you start setting `weights_only=True` for any use case where you don't have full control of the loaded file. Please open an issue on GitHub for any issues related to this experimental feature.\n",
            "  _model.load_state_dict(torch.load('best_modelEfficientNetPreTrained.pth', map_location=_device))\n"
          ]
        },
        {
          "name": "stdout",
          "output_type": "stream",
          "text": [
            "The predicted class is: non-box\n"
          ]
        }
      ],
      "source": [
        "classes = ['non-box', 'box']\n",
        "image_path = \"sample/2 (10).jpg\"\n",
        "result = get_class_name(image_path)\n",
        "print(f\"The predicted class is: {classes[result]}\")"
      ]
    },
    {
      "cell_type": "markdown",
      "metadata": {
        "id": "Cr6j0-Z3gbYK"
      },
      "source": [
        "# Evaluate Testset"
      ]
    },
    {
      "cell_type": "code",
      "execution_count": null,
      "metadata": {
        "colab": {
          "base_uri": "https://localhost:8080/",
          "height": 1000
        },
        "id": "qcI9ZigCgbYL",
        "outputId": "03eab0f6-8a08-4bb0-ba63-2469caf612dc"
      },
      "outputs": [
        {
          "output_type": "stream",
          "name": "stderr",
          "text": [
            "100%|██████████| 100/100 [00:12<00:00,  8.33it/s]\n",
            "100%|██████████| 100/100 [00:11<00:00,  8.40it/s]\n"
          ]
        },
        {
          "output_type": "stream",
          "name": "stdout",
          "text": [
            "Accuracy: 0.9950\n",
            "Precision (class 0 - non-box): 1.0000, Precision (class 1 - box): 0.9901\n",
            "Recall (class 0 - non-box): 0.9900, Recall (class 1 - box): 1.0000\n",
            "F1-Score (class 0 - non-box): 0.9950, F1-Score (class 1 - box): 0.9950\n",
            "Macro Precision: 0.9950, Macro Recall: 0.9950, Macro F1-Score: 0.9950\n"
          ]
        },
        {
          "output_type": "display_data",
          "data": {
            "text/plain": [
              "<Figure size 1200x600 with 1 Axes>"
            ],
            "image/png": "[encoded data removed]"
          },
          "metadata": {}
        },
        {
          "output_type": "display_data",
          "data": {
            "text/plain": [
              "<Figure size 800x600 with 1 Axes>"
            ],
            "image/png": "[encoded data removed]"
          },
          "metadata": {}
        }
      ],
      "source": [
        "from glob import glob\n",
        "from tqdm import tqdm\n",
        "from sklearn.metrics import precision_score, recall_score, f1_score, accuracy_score\n",
        "import matplotlib.pyplot as plt\n",
        "import numpy as np\n",
        "\n",
        "total = 0\n",
        "correct = 0\n",
        "\n",
        "# Lists to store true labels and predicted labels\n",
        "true_labels = []\n",
        "predicted_labels = []\n",
        "\n",
        "# Evaluate for 'xbox' (class 1)\n",
        "for image_path in tqdm(glob(\"/content/drive/MyDrive/boxes_classification_test_2/boxes_classification_test_2/xbox/*\")):\n",
        "    result = get_class_name(image_path)\n",
        "    true_labels.append(1)  # True label for 'xbox'\n",
        "    predicted_labels.append(result)  # Predicted label\n",
        "    total += 1\n",
        "    correct += int(result == 1)\n",
        "\n",
        "# Evaluate for 'non-box' (class 0)\n",
        "for image_path in tqdm(glob(\"/content/drive/MyDrive/boxes_classification_test_2/boxes_classification_test_2/non-box/*\")):\n",
        "    result = get_class_name(image_path)\n",
        "    true_labels.append(0)  # True label for 'non-box'\n",
        "    predicted_labels.append(result)  # Predicted label\n",
        "    total += 1\n",
        "    correct += int(result == 0)\n",
        "\n",
        "# Calculate metrics\n",
        "accuracy = accuracy_score(true_labels, predicted_labels)\n",
        "precision = precision_score(true_labels, predicted_labels, average=None)  # Per class precision\n",
        "recall = recall_score(true_labels, predicted_labels, average=None)  # Per class recall\n",
        "f1 = f1_score(true_labels, predicted_labels, average=None)  # Per class F1-score\n",
        "\n",
        "# Macro averages\n",
        "macro_precision = precision_score(true_labels, predicted_labels, average='macro')\n",
        "macro_recall = recall_score(true_labels, predicted_labels, average='macro')\n",
        "macro_f1 = f1_score(true_labels, predicted_labels, average='macro')\n",
        "\n",
        "print(f\"Accuracy: {accuracy:.4f}\")\n",
        "print(f\"Precision (class 0 - non-box): {precision[0]:.4f}, Precision (class 1 - box): {precision[1]:.4f}\")\n",
        "print(f\"Recall (class 0 - non-box): {recall[0]:.4f}, Recall (class 1 - box): {recall[1]:.4f}\")\n",
        "print(f\"F1-Score (class 0 - non-box): {f1[0]:.4f}, F1-Score (class 1 - box): {f1[1]:.4f}\")\n",
        "print(f\"Macro Precision: {macro_precision:.4f}, Macro Recall: {macro_recall:.4f}, Macro F1-Score: {macro_f1:.4f}\")\n",
        "\n",
        "# ================================\n",
        "# Plotting the Metrics\n",
        "# ================================\n",
        "# Data for plotting\n",
        "classes = ['Non-Box', 'Box']\n",
        "x = np.arange(len(classes))\n",
        "\n",
        "# Plot Precision, Recall, F1-Score, and Accuracy for each class\n",
        "plt.figure(figsize=(12, 6))\n",
        "plt.bar(x - 0.3, precision, width=0.2, label='Precision', align='center')\n",
        "plt.bar(x - 0.1, recall, width=0.2, label='Recall', align='center')\n",
        "plt.bar(x + 0.1, f1, width=0.2, label='F1-Score', align='center')\n",
        "plt.bar(x + 0.3, [accuracy, accuracy], width=0.2, label='Accuracy (Overall)', align='center', color='purple')\n",
        "plt.xticks(x, classes)\n",
        "plt.ylabel(\"Score\")\n",
        "plt.title(\"Precision, Recall, F1-Score, and Accuracy per Class\")\n",
        "plt.legend()\n",
        "plt.grid(axis='y')\n",
        "plt.show()\n",
        "\n",
        "# Plot Macro-Averaged Metrics including Accuracy\n",
        "metrics = ['Precision', 'Recall', 'F1-Score', 'Accuracy']\n",
        "macro_scores = [macro_precision, macro_recall, macro_f1, accuracy]\n",
        "\n",
        "plt.figure(figsize=(8, 6))\n",
        "plt.bar(metrics, macro_scores, color=['blue', 'orange', 'green', 'purple'])\n",
        "plt.ylabel(\"Score\")\n",
        "plt.title(\"Metrics and Accuracy\")\n",
        "plt.ylim(0, 1)\n",
        "plt.grid(axis='y')\n",
        "plt.show()"
      ]
    }
  ],
  "metadata": {
    "accelerator": "GPU",
    "colab": {
      "gpuType": "T4",
      "provenance": []
    },
    "kernelspec": {
      "display_name": "Python 3 (ipykernel)",
      "language": "python",
      "name": "python3"
    },
    "language_info": {
      "codemirror_mode": {
        "name": "ipython",
        "version": 3
      },
      "file_extension": ".py",
      "mimetype": "text/x-python",
      "name": "python",
      "nbconvert_exporter": "python",
      "pygments_lexer": "ipython3",
      "version": "3.9.19"
    }
  },
  "nbformat": 4,
  "nbformat_minor": 0
}