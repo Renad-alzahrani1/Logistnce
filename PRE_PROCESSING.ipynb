{
  "cells": [
    {
      "cell_type": "markdown",
      "source": [
        "# **Senior 2**"
      ],
      "metadata": {
        "id": "VwlB7E_Q7Y46"
      }
    },
    {
      "cell_type": "markdown",
      "source": [
        "**Imports** VERY IMPOTANT!"
      ],
      "metadata": {
        "id": "ZJKV5CgTo5sg"
      }
    },
    {
      "cell_type": "code",
      "source": [
        "import os\n",
        "import numpy as np\n",
        "from PIL import Image, ImageFilter, ImageEnhance, ImageOps\n",
        "from google.colab import files  # Only for Google Colab\n",
        "import cv2"
      ],
      "metadata": {
        "id": "7d3hK2Cjo-Qf"
      },
      "execution_count": null,
      "outputs": []
    },
    {
      "cell_type": "markdown",
      "source": [
        "****Image Augmentation****"
      ],
      "metadata": {
        "id": "RNDmjtWL_LpR"
      }
    },
    {
      "cell_type": "markdown",
      "source": [
        "**Methodology 1**\n",
        "\n",
        "1. Contrast Adjustment: PIL\n",
        "2. Resize: OpenCV\n",
        "3. Normalization: OpenCV (with NumPy)\n",
        "4. PNG Format: PIL\n",
        "---\n"
      ],
      "metadata": {
        "id": "2MwBUTN-_mjd"
      }
    },
    {
      "cell_type": "code",
      "source": [
        "\n",
        "def download_image(image, name):\n",
        "    # Save the image\n",
        "    image.save(name, format='PNG', quality=100)\n",
        "    # Download the image (for Colab)\n",
        "    files.download(name)\n",
        "\n",
        "def do_methodology1(image_path, output_path):\n",
        "    # Load image using PIL for preprocessing\n",
        "    pil_image = Image.open(image_path).convert('RGB')  # Ensure it's in RGB mode\n",
        "\n",
        "    # 2. Contrast adjustment using PIL\n",
        "    enhancer = ImageEnhance.Contrast(pil_image)\n",
        "    contrast_image = enhancer.enhance(1.5)  # Increase contrast (1.0 = original, >1.0 = more contrast)\n",
        "\n",
        "    # Convert the PIL image to OpenCV format (necessary for further processing)\n",
        "    opencv_image = np.array(contrast_image)\n",
        "    opencv_image = cv2.cvtColor(opencv_image, cv2.COLOR_RGB2BGR)  # Convert from RGB to BGR for OpenCV\n",
        "\n",
        "    # 3. Resize using OpenCV\n",
        "    resized_image = cv2.resize(opencv_image, (640, 640), interpolation=cv2.INTER_LINEAR)\n",
        "\n",
        "    # 4. Normalization using OpenCV (with NumPy)\n",
        "    normalized_image = cv2.normalize(resized_image, None, 0, 255, cv2.NORM_MINMAX)\n",
        "\n",
        "    # Convert back to RGB for saving and display with PIL\n",
        "    normalized_image_rgb = cv2.cvtColor(normalized_image, cv2.COLOR_BGR2RGB)\n",
        "\n",
        "    # Convert back to PIL and save the final image as high-quality PNG using PIL\n",
        "    normalized_image_pil = Image.fromarray(normalized_image_rgb)\n",
        "    normalized_image_pil.save(output_path, format='PNG', quality=100)\n",
        "\n",
        "    print(f\"Processed final image saved as: {output_path}\")\n",
        "\n",
        "# Run the methodology function\n",
        "# do_methodology1(\"/content/1.jpg\", \"5.output.jpg\")\n"
      ],
      "metadata": {
        "id": "vKQxx-IoCA4s",
        "colab": {
          "base_uri": "https://localhost:8080/"
        },
        "outputId": "c08bb0d1-363c-4259-87a3-46aea61c9f89"
      },
      "execution_count": null,
      "outputs": [
        {
          "output_type": "stream",
          "name": "stdout",
          "text": [
            "Processed final image saved as: 5.output.jpg\n"
          ]
        }
      ]
    },
    {
      "cell_type": "markdown",
      "source": [
        "**Methodology 2**\n",
        "\n",
        "1. Contrast Adjustment: PIL\n",
        "2. Sharpening: OpenCV\n",
        "3. Resize: OpenCV\n",
        "4. Normalization: OpenCV (with NumPy)\n",
        "5. PNG Format: PIL\n",
        "---\n",
        "\n"
      ],
      "metadata": {
        "id": "GUYCBy-rFk8v"
      }
    },
    {
      "cell_type": "code",
      "source": [
        "def download_image(image, name):\n",
        "    # Save the image\n",
        "    image.save(name, format='PNG', quality=100)\n",
        "    # Download the image (for Colab)\n",
        "    files.download(name)\n",
        "\n",
        "def do_methodology2(image_path, output_path):\n",
        "    # Load image using PIL and convert to RGB\n",
        "    img = Image.open(image_path).convert('RGB')  # Ensure it's in RGB mode\n",
        "\n",
        "    # Adjust contrast using PIL\n",
        "    enhancer = ImageEnhance.Contrast(img)\n",
        "    img = enhancer.enhance(1.5)  # Adjust the factor as needed (1.0 means no change)\n",
        "    # download_image(img, \"2.after_contrast.jpg\")\n",
        "\n",
        "    # Convert PIL image to NumPy array and convert from RGB to BGR (for OpenCV processing)\n",
        "    img_np = np.array(img)\n",
        "    img_np = cv2.cvtColor(img_np, cv2.COLOR_RGB2BGR)  # Convert RGB to BGR for OpenCV\n",
        "\n",
        "    # Sharpening using OpenCV\n",
        "    kernel = np.array([[0, -1, 0],\n",
        "                       [-1, 5, -1],\n",
        "                       [0, -1, 0]])  # Sharpening kernel\n",
        "    img_np = cv2.filter2D(img_np, -1, kernel)\n",
        "\n",
        "    # Convert back from BGR to RGB for saving and display with PIL\n",
        "    img_np = cv2.cvtColor(img_np, cv2.COLOR_BGR2RGB)\n",
        "    # download_image(Image.fromarray(img_np), \"3.after_sharp.jpg\")\n",
        "\n",
        "    # Resize image using OpenCV\n",
        "    resized_image = cv2.resize(img_np, (640, 640), interpolation=cv2.INTER_LINEAR)\n",
        "    # download_image(Image.fromarray(resized_image), \"4.after_resize.jpg\")\n",
        "\n",
        "    # Normalize using OpenCV\n",
        "    normalized_image = cv2.normalize(resized_image, None, 0, 255, cv2.NORM_MINMAX)\n",
        "    # download_image(Image.fromarray(normalized_image), \"5.after_normalize.jpg\")\n",
        "\n",
        "    # Convert back to PIL and save the final image as PNG\n",
        "    normalized_image_pil = Image.fromarray(normalized_image)\n",
        "    normalized_image_pil.save(output_path, format='PNG', quality=100)\n",
        "\n",
        "    print(f\"Processed final image saved as: {output_path}\")\n",
        "\n",
        "# Run the methodology function\n",
        "#do_methodology2(\"/content/1.jpg\", \"6.output.jpg\")\n",
        "\n",
        "\n"
      ],
      "metadata": {
        "id": "YSA3t3_hyrbK",
        "colab": {
          "base_uri": "https://localhost:8080/",
          "height": 34
        },
        "outputId": "b4d0c961-33c0-461d-e1e3-7a7121fd8486"
      },
      "execution_count": null,
      "outputs": [
        {
          "output_type": "display_data",
          "data": {
            "text/plain": [
              "<IPython.core.display.Javascript object>"
            ],
            "application/javascript": [
              "\n",
              "    async function download(id, filename, size) {\n",
              "      if (!google.colab.kernel.accessAllowed) {\n",
              "        return;\n",
              "      }\n",
              "      const div = document.createElement('div');\n",
              "      const label = document.createElement('label');\n",
              "      label.textContent = `Downloading \"${filename}\": `;\n",
              "      div.appendChild(label);\n",
              "      const progress = document.createElement('progress');\n",
              "      progress.max = size;\n",
              "      div.appendChild(progress);\n",
              "      document.body.appendChild(div);\n",
              "\n",
              "      const buffers = [];\n",
              "      let downloaded = 0;\n",
              "\n",
              "      const channel = await google.colab.kernel.comms.open(id);\n",
              "      // Send a message to notify the kernel that we're ready.\n",
              "      channel.send({})\n",
              "\n",
              "      for await (const message of channel.messages) {\n",
              "        // Send a message to notify the kernel that we're ready.\n",
              "        channel.send({})\n",
              "        if (message.buffers) {\n",
              "          for (const buffer of message.buffers) {\n",
              "            buffers.push(buffer);\n",
              "            downloaded += buffer.byteLength;\n",
              "            progress.value = downloaded;\n",
              "          }\n",
              "        }\n",
              "      }\n",
              "      const blob = new Blob(buffers, {type: 'application/binary'});\n",
              "      const a = document.createElement('a');\n",
              "      a.href = window.URL.createObjectURL(blob);\n",
              "      a.download = filename;\n",
              "      div.appendChild(a);\n",
              "      a.click();\n",
              "      div.remove();\n",
              "    }\n",
              "  "
            ]
          },
          "metadata": {}
        },
        {
          "output_type": "display_data",
          "data": {
            "text/plain": [
              "<IPython.core.display.Javascript object>"
            ],
            "application/javascript": [
              "download(\"download_60cfaa84-2a09-4f57-b923-1002f44b5102\", \"2.after_contrast.jpg\", 440829)"
            ]
          },
          "metadata": {}
        },
        {
          "output_type": "display_data",
          "data": {
            "text/plain": [
              "<IPython.core.display.Javascript object>"
            ],
            "application/javascript": [
              "\n",
              "    async function download(id, filename, size) {\n",
              "      if (!google.colab.kernel.accessAllowed) {\n",
              "        return;\n",
              "      }\n",
              "      const div = document.createElement('div');\n",
              "      const label = document.createElement('label');\n",
              "      label.textContent = `Downloading \"${filename}\": `;\n",
              "      div.appendChild(label);\n",
              "      const progress = document.createElement('progress');\n",
              "      progress.max = size;\n",
              "      div.appendChild(progress);\n",
              "      document.body.appendChild(div);\n",
              "\n",
              "      const buffers = [];\n",
              "      let downloaded = 0;\n",
              "\n",
              "      const channel = await google.colab.kernel.comms.open(id);\n",
              "      // Send a message to notify the kernel that we're ready.\n",
              "      channel.send({})\n",
              "\n",
              "      for await (const message of channel.messages) {\n",
              "        // Send a message to notify the kernel that we're ready.\n",
              "        channel.send({})\n",
              "        if (message.buffers) {\n",
              "          for (const buffer of message.buffers) {\n",
              "            buffers.push(buffer);\n",
              "            downloaded += buffer.byteLength;\n",
              "            progress.value = downloaded;\n",
              "          }\n",
              "        }\n",
              "      }\n",
              "      const blob = new Blob(buffers, {type: 'application/binary'});\n",
              "      const a = document.createElement('a');\n",
              "      a.href = window.URL.createObjectURL(blob);\n",
              "      a.download = filename;\n",
              "      div.appendChild(a);\n",
              "      a.click();\n",
              "      div.remove();\n",
              "    }\n",
              "  "
            ]
          },
          "metadata": {}
        },
        {
          "output_type": "display_data",
          "data": {
            "text/plain": [
              "<IPython.core.display.Javascript object>"
            ],
            "application/javascript": [
              "download(\"download_66eda4a9-6c95-4af7-bf33-999b86b4e175\", \"3.after_sharp.jpg\", 765265)"
            ]
          },
          "metadata": {}
        },
        {
          "output_type": "display_data",
          "data": {
            "text/plain": [
              "<IPython.core.display.Javascript object>"
            ],
            "application/javascript": [
              "\n",
              "    async function download(id, filename, size) {\n",
              "      if (!google.colab.kernel.accessAllowed) {\n",
              "        return;\n",
              "      }\n",
              "      const div = document.createElement('div');\n",
              "      const label = document.createElement('label');\n",
              "      label.textContent = `Downloading \"${filename}\": `;\n",
              "      div.appendChild(label);\n",
              "      const progress = document.createElement('progress');\n",
              "      progress.max = size;\n",
              "      div.appendChild(progress);\n",
              "      document.body.appendChild(div);\n",
              "\n",
              "      const buffers = [];\n",
              "      let downloaded = 0;\n",
              "\n",
              "      const channel = await google.colab.kernel.comms.open(id);\n",
              "      // Send a message to notify the kernel that we're ready.\n",
              "      channel.send({})\n",
              "\n",
              "      for await (const message of channel.messages) {\n",
              "        // Send a message to notify the kernel that we're ready.\n",
              "        channel.send({})\n",
              "        if (message.buffers) {\n",
              "          for (const buffer of message.buffers) {\n",
              "            buffers.push(buffer);\n",
              "            downloaded += buffer.byteLength;\n",
              "            progress.value = downloaded;\n",
              "          }\n",
              "        }\n",
              "      }\n",
              "      const blob = new Blob(buffers, {type: 'application/binary'});\n",
              "      const a = document.createElement('a');\n",
              "      a.href = window.URL.createObjectURL(blob);\n",
              "      a.download = filename;\n",
              "      div.appendChild(a);\n",
              "      a.click();\n",
              "      div.remove();\n",
              "    }\n",
              "  "
            ]
          },
          "metadata": {}
        },
        {
          "output_type": "display_data",
          "data": {
            "text/plain": [
              "<IPython.core.display.Javascript object>"
            ],
            "application/javascript": [
              "download(\"download_14acd36b-252e-4c7e-814f-ad343664204f\", \"4.after_resize.jpg\", 473951)"
            ]
          },
          "metadata": {}
        },
        {
          "output_type": "display_data",
          "data": {
            "text/plain": [
              "<IPython.core.display.Javascript object>"
            ],
            "application/javascript": [
              "\n",
              "    async function download(id, filename, size) {\n",
              "      if (!google.colab.kernel.accessAllowed) {\n",
              "        return;\n",
              "      }\n",
              "      const div = document.createElement('div');\n",
              "      const label = document.createElement('label');\n",
              "      label.textContent = `Downloading \"${filename}\": `;\n",
              "      div.appendChild(label);\n",
              "      const progress = document.createElement('progress');\n",
              "      progress.max = size;\n",
              "      div.appendChild(progress);\n",
              "      document.body.appendChild(div);\n",
              "\n",
              "      const buffers = [];\n",
              "      let downloaded = 0;\n",
              "\n",
              "      const channel = await google.colab.kernel.comms.open(id);\n",
              "      // Send a message to notify the kernel that we're ready.\n",
              "      channel.send({})\n",
              "\n",
              "      for await (const message of channel.messages) {\n",
              "        // Send a message to notify the kernel that we're ready.\n",
              "        channel.send({})\n",
              "        if (message.buffers) {\n",
              "          for (const buffer of message.buffers) {\n",
              "            buffers.push(buffer);\n",
              "            downloaded += buffer.byteLength;\n",
              "            progress.value = downloaded;\n",
              "          }\n",
              "        }\n",
              "      }\n",
              "      const blob = new Blob(buffers, {type: 'application/binary'});\n",
              "      const a = document.createElement('a');\n",
              "      a.href = window.URL.createObjectURL(blob);\n",
              "      a.download = filename;\n",
              "      div.appendChild(a);\n",
              "      a.click();\n",
              "      div.remove();\n",
              "    }\n",
              "  "
            ]
          },
          "metadata": {}
        },
        {
          "output_type": "display_data",
          "data": {
            "text/plain": [
              "<IPython.core.display.Javascript object>"
            ],
            "application/javascript": [
              "download(\"download_6e03f44e-974f-43b4-b8c6-eb4c25a9dfd0\", \"5.after_normalize.jpg\", 473951)"
            ]
          },
          "metadata": {}
        },
        {
          "output_type": "stream",
          "name": "stdout",
          "text": [
            "Processed final image saved as: 6.output.jpg\n"
          ]
        }
      ]
    },
    {
      "cell_type": "markdown",
      "source": [
        "**Methodology 3**\n",
        "\n",
        "1. Grayscale Conversion using OpenCV.\n",
        "2. Histogram Equalization with Pillow.\n",
        "3. Noise Reduction through OpenCV’s median filtering.\n",
        "4. Resizing the image to 640 pixels with OpenCV.\n",
        "5. Normalization using OpenCV.\n",
        "6. Final image format saved as PNG using Pillow.\n",
        "---\n",
        "\n",
        "\n"
      ],
      "metadata": {
        "id": "HFSMJTMswMFD"
      }
    },
    {
      "cell_type": "code",
      "source": [
        "\n",
        "def do_methodology3(image_path, output_path):\n",
        "    # Load image using OpenCV\n",
        "    img = cv2.imread(image_path)\n",
        "\n",
        "    # Convert from BGR (OpenCV default) to RGB\n",
        "    img_rgb = cv2.cvtColor(img, cv2.COLOR_BGR2RGB)\n",
        "\n",
        "    # Step 2: Grayscale Conversion\n",
        "    img_gray = cv2.cvtColor(img_rgb, cv2.COLOR_RGB2GRAY)\n",
        "\n",
        "    # Step 3: Histogram Equalization using Pillow\n",
        "    img_pil = Image.fromarray(img_gray)  # Convert OpenCV image to PIL format\n",
        "    img_equalized = ImageOps.equalize(img_pil)  # Perform histogram equalization\n",
        "\n",
        "    # Step 4: Convert back to OpenCV format for further processing\n",
        "    img_equalized_cv = cv2.cvtColor(np.array(img_equalized), cv2.COLOR_RGB2BGR)\n",
        "\n",
        "    # Step 5: Noise Reduction (Median Filtering)\n",
        "    img_denoised = cv2.medianBlur(img_equalized_cv, 3)  # Using kernel size of 3\n",
        "\n",
        "    # Step 6: Resize to (500, 500)\n",
        "    img_resized = cv2.resize(img_denoised, (640, 640))\n",
        "\n",
        "    # Step 7: Normalization (preserving color)\n",
        "    img_normalized = cv2.normalize(img_resized, None, alpha=0, beta=255, norm_type=cv2.NORM_MINMAX)\n",
        "\n",
        "    # Step 8: Convert back to PIL for saving as PNG\n",
        "    img_final = Image.fromarray(cv2.cvtColor(img_normalized, cv2.COLOR_BGR2RGB))  # Convert to PIL\n",
        "\n",
        "    # Save as PNG using Pillow\n",
        "    img_final.save(output_path, format='PNG')\n",
        "\n",
        "    print(f\"Processed final image saved as: {output_path}\")\n"
      ],
      "metadata": {
        "id": "5gFhmlEVA_QP"
      },
      "execution_count": null,
      "outputs": []
    },
    {
      "cell_type": "code",
      "source": [
        "collected_images_path = \"/content/test_folder\"\n",
        "all_images_path = collected_images_path # uncomment this if you want to do preprocessing on collected images only\n",
        "\n",
        "output_folder = os.path.join(all_images_path, \"preprocessing_output\")\n",
        "if not os.path.exists(output_folder):\n",
        "    os.makedirs(output_folder)\n",
        "    print(f\"Created folder: {output_folder}\")\n",
        "# Loop over all files in the folder\n",
        "for filename in os.listdir(all_images_path):\n",
        "    # Check if the file is a .jpg file\n",
        "    if filename.endswith(\".jpg\") and not \"GG\" in filename:\n",
        "        file_path = os.path.join(all_images_path, filename)\n",
        "\n",
        "        # Perform any action with the image here\n",
        "        print(f\"Processing {file_path}\")\n",
        "        do_methodology1(file_path,output_folder +\"/GG_meth1_\" + filename )\n",
        "        do_methodology2(file_path,output_folder +\"/GG_meth2_\" + filename )\n",
        "        do_methodology3(file_path,output_folder +\"/GG_meth3_\" + filename )\n"
      ],
      "metadata": {
        "colab": {
          "base_uri": "https://localhost:8080/"
        },
        "id": "jPVom5CauqWo",
        "outputId": "409e92a3-9928-483e-e0ee-4bc0d61bdb7e"
      },
      "execution_count": null,
      "outputs": [
        {
          "output_type": "stream",
          "name": "stdout",
          "text": [
            "Processing /content/test_folder/1.jpg\n",
            "Processed images saved at each step and final image saved as /content/test_folder/preprocessing_output/GG_meth1_1.jpg\n",
            "Processed final image saved as: /content/test_folder/preprocessing_output/GG_meth2_1.jpg\n",
            "Processed final image saved as: /content/test_folder/preprocessing_output/GG_meth3_1.jpg\n"
          ]
        }
      ]
    },
    {
      "cell_type": "markdown",
      "source": [
        "code to download preprocessed images"
      ],
      "metadata": {
        "id": "RqUkMk-azmy_"
      }
    },
    {
      "cell_type": "code",
      "source": [
        "!apt-get install rar\n",
        "!rar a /content/preprocessing.rar /content/test_folder/preprocessing_output\n",
        "from google.colab import files\n",
        "files.download(\"/content/preprocessing.rar\")"
      ],
      "metadata": {
        "colab": {
          "base_uri": "https://localhost:8080/",
          "height": 347
        },
        "id": "aUCBtDn2znHU",
        "outputId": "43decd4d-c841-4665-ee8f-c4d5d8734a91"
      },
      "execution_count": null,
      "outputs": [
        {
          "output_type": "stream",
          "name": "stdout",
          "text": [
            "Reading package lists... Done\n",
            "Building dependency tree... Done\n",
            "Reading state information... Done\n",
            "rar is already the newest version (2:5.5.0-1.1).\n",
            "0 upgraded, 0 newly installed, 0 to remove and 49 not upgraded.\n",
            "\n",
            "RAR 5.50   Copyright (c) 1993-2017 Alexander Roshal   11 Aug 2017\n",
            "Trial version             Type 'rar -?' for help\n",
            "\n",
            "Evaluation copy. Please register.\n",
            "\n",
            "Creating archive /content/preprocessing.rar\n",
            "\n",
            "Adding    /content/test_folder/preprocessing_output/GG_meth3_1.jpg       \b\b\b\b 24%\b\b\b\b\b  OK \n",
            "Adding    /content/test_folder/preprocessing_output/GG_meth2_1.jpg       \b\b\b\b 78%\b\b\b\b\b  OK \n",
            "Adding    /content/test_folder/preprocessing_output/GG_meth1_1.jpg       \b\b\b\b 99%\b\b\b\b\b  OK \n",
            "Adding    /content/test_folder/preprocessing_output/.ipynb_checkpoints     \b\b\b\b\b  OK \n",
            "Adding    /content/test_folder/preprocessing_output                      \b\b\b\b\b  OK \n",
            "Done\n"
          ]
        },
        {
          "output_type": "display_data",
          "data": {
            "text/plain": [
              "<IPython.core.display.Javascript object>"
            ],
            "application/javascript": [
              "\n",
              "    async function download(id, filename, size) {\n",
              "      if (!google.colab.kernel.accessAllowed) {\n",
              "        return;\n",
              "      }\n",
              "      const div = document.createElement('div');\n",
              "      const label = document.createElement('label');\n",
              "      label.textContent = `Downloading \"${filename}\": `;\n",
              "      div.appendChild(label);\n",
              "      const progress = document.createElement('progress');\n",
              "      progress.max = size;\n",
              "      div.appendChild(progress);\n",
              "      document.body.appendChild(div);\n",
              "\n",
              "      const buffers = [];\n",
              "      let downloaded = 0;\n",
              "\n",
              "      const channel = await google.colab.kernel.comms.open(id);\n",
              "      // Send a message to notify the kernel that we're ready.\n",
              "      channel.send({})\n",
              "\n",
              "      for await (const message of channel.messages) {\n",
              "        // Send a message to notify the kernel that we're ready.\n",
              "        channel.send({})\n",
              "        if (message.buffers) {\n",
              "          for (const buffer of message.buffers) {\n",
              "            buffers.push(buffer);\n",
              "            downloaded += buffer.byteLength;\n",
              "            progress.value = downloaded;\n",
              "          }\n",
              "        }\n",
              "      }\n",
              "      const blob = new Blob(buffers, {type: 'application/binary'});\n",
              "      const a = document.createElement('a');\n",
              "      a.href = window.URL.createObjectURL(blob);\n",
              "      a.download = filename;\n",
              "      div.appendChild(a);\n",
              "      a.click();\n",
              "      div.remove();\n",
              "    }\n",
              "  "
            ]
          },
          "metadata": {}
        },
        {
          "output_type": "display_data",
          "data": {
            "text/plain": [
              "<IPython.core.display.Javascript object>"
            ],
            "application/javascript": [
              "download(\"download_3b6d5f7a-e842-4575-8e5e-1e0aa26b786d\", \"preprocessing.rar\", 867736)"
            ]
          },
          "metadata": {}
        }
      ]
    }
  ],
  "metadata": {
    "colab": {
      "provenance": [],
      "gpuType": "T4",
      "machine_shape": "hm"
    },
    "kernelspec": {
      "display_name": "Python 3",
      "name": "python3"
    },
    "language_info": {
      "name": "python"
    }
  },
  "nbformat": 4,
  "nbformat_minor": 0
}